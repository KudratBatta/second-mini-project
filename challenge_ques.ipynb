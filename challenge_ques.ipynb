{
  "nbformat": 4,
  "nbformat_minor": 0,
  "metadata": {
    "colab": {
      "provenance": [],
      "authorship_tag": "ABX9TyNiYu8GYkMtB+wiFc7pHElw",
      "include_colab_link": true
    },
    "kernelspec": {
      "name": "python3",
      "display_name": "Python 3"
    },
    "language_info": {
      "name": "python"
    }
  },
  "cells": [
    {
      "cell_type": "markdown",
      "metadata": {
        "id": "view-in-github",
        "colab_type": "text"
      },
      "source": [
        "<a href=\"https://colab.research.google.com/github/KudratBatta/second-mini-project/blob/main/challenge_ques.ipynb\" target=\"_parent\"><img src=\"https://colab.research.google.com/assets/colab-badge.svg\" alt=\"Open In Colab\"/></a>"
      ]
    },
    {
      "cell_type": "code",
      "execution_count": 1,
      "metadata": {
        "colab": {
          "base_uri": "https://localhost:8080/"
        },
        "id": "rPwV7Uw2_mqP",
        "outputId": "ea1dad34-39e5-490c-e3b2-612311581520"
      },
      "outputs": [
        {
          "output_type": "stream",
          "name": "stdout",
          "text": [
            "Original List: ['Ram', 1, 'Shyam', 2, 'Aman', 3]\n",
            "Sorted List: ['Aman', 'Ram', 'Shyam', 1, 2, 3]\n"
          ]
        }
      ],
      "source": [
        "L = [\"Ram\", 1, \"Shyam\", 2, \"Aman\", 3]\n",
        "print(\"Original List:\", L)\n",
        "\n",
        "str_list = []\n",
        "int_list = []\n",
        "\n",
        "for item in L:\n",
        "    if type(item) == str:\n",
        "        str_list.append(item)\n",
        "    else:\n",
        "        int_list.append(item)\n",
        "\n",
        "str_list.sort()\n",
        "int_list.sort()\n",
        "\n",
        "sorted_L = str_list + int_list\n",
        "print(\"Sorted List:\", sorted_L)\n"
      ]
    }
  ]
}